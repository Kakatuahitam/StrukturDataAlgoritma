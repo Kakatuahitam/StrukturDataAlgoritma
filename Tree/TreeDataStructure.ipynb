{
 "cells": [
  {
   "cell_type": "markdown",
   "metadata": {},
   "source": [
    "# Tree Data Structure"
   ]
  },
  {
   "cell_type": "markdown",
   "metadata": {},
   "source": [
    "Rabu, 10 Juni 2020<br><br>\n",
    "\n",
    "2A | 2B | 2E<br>\n",
    "Struktur Data dan Algoritma<br>\n",
    "Teknik Informatika<br>\n",
    "UIN Syarif Hidayatullah Jakarta<br>"
   ]
  },
  {
   "cell_type": "markdown",
   "metadata": {},
   "source": [
    "<hr>\n",
    "Source:\n",
    "<blockquote>\n",
    "    <a href=https://blog.contactsunny.com/tech/binary-tree-implementation-in-java>\n",
    "        Contact Sunny\n",
    "    </a><br>\n",
    "    <a href=https://www.interviewcake.com/concept/java/binary-tree>\n",
    "        Interview Cake\n",
    "    </a><br>\n",
    "    <a href=http://www.bowdoin.edu/~ltoma/teaching/cs210/spring09/Slides/210-Trees.pdf>\n",
    "        Bowdoin\n",
    "    </a><br>\n",
    "    <a href=https://towardsdatascience.com/decision-trees-in-machine-learning-641b9c4e8052>\n",
    "        Prashan Gupta\n",
    "    </a><br>\n",
    "    <a href=https://www.baeldung.com/java-binary-tree>\n",
    "        Baeldung\n",
    "    </a><br>\n",
    "</blockquote>\n",
    "<hr>"
   ]
  },
  {
   "cell_type": "markdown",
   "metadata": {},
   "source": [
    "## 1.Definisi"
   ]
  },
  {
   "cell_type": "markdown",
   "metadata": {},
   "source": [
    "<img src=\"https://encrypted-tbn0.gstatic.com/images?q=tbn%3AANd9GcSzHj_2_UomsbBrvI5mymbxqXQsoXbkvyrqw3lon4lwSL3EopXN&usqp=CAU\">"
   ]
  },
  {
   "cell_type": "markdown",
   "metadata": {},
   "source": [
    "<div style=\"text-align: justify\">\n",
    "Struktur data Tree adalah salah satu <b>struktur data hirarki</b>. Maksudnya memiliki struktur seperti tingkatan. Tidak seperti struktur data sebelumnya yang mana merupakan struktur data linier seperti array, stack, queue, linked list. Sehingga Tree juga termasuk sebagai <b>non-linear data structure</b><br>\n",
    "    \n",
    "Tree terinspirasi dari adanya struktur pohon keluarga yang mana terdiri dari orang tua dan keturunannya. <br>\n",
    "    \n",
    "Oleh karena itu, pada Tree terdapat elemen atau sebut saja node yang merupakan pucuk dari Tree itu sendiri beserta turunan dari pucuk tersebut. <b>(Root, Child)</b><br>\n",
    "    \n",
    "Dikarenakan Tree adalah struktur data yang mempunyai child, seperti pohon keluarga, Tree juga mempunyai tingkatan generasi atau lebih sering disebut dengan <b>depth level</b> atau level saja.<br>\n",
    "    \n",
    "Node yang tidak mempunyai child disebut dengan <b>Reaf</b>, sedangkan Node yang tidak mempunyai parent disebut dengan <b>Root</b><br>\n",
    "    \n",
    "Maka, struktur data Tree dapat dibagi menjadi 2 major, yaitu Binary Tree dan Non-Binary Tree.<br>\n",
    "\n",
    "\n",
    "</div>"
   ]
  },
  {
   "cell_type": "markdown",
   "metadata": {},
   "source": [
    "### 1.1. Binary Tree"
   ]
  },
  {
   "cell_type": "markdown",
   "metadata": {},
   "source": [
    "<img src=\"https://www.interviewcake.com/images/svgs/binary_tree__depth_5_with_number_of_nodes_labelled.svg?bust=206\">"
   ]
  },
  {
   "cell_type": "markdown",
   "metadata": {},
   "source": [
    "<div style=\"text-align: justify\">\n",
    "Dikatakan Binary Tree karena struktur data ini hanya memiliki dua child untuk setiap node. Sehingga dapat pula dibuatkan rumus untuk menghitung jumlah node maksimal dalam level tertentu. yaitu n=2^h−1\n",
    "</div>"
   ]
  },
  {
   "cell_type": "markdown",
   "metadata": {},
   "source": [
    "### 1.2. Non-Binary Tree"
   ]
  },
  {
   "cell_type": "markdown",
   "metadata": {},
   "source": [
    "<img src=\"data:image/png;base64,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\">"
   ]
  },
  {
   "cell_type": "markdown",
   "metadata": {},
   "source": [
    "<div style=\"text-align: justify\">\n",
    "Dikatakan Non-Binary Tree karena struktur data ini bisa mempunyai dua child lebih untuk setiap node. \n",
    "</div>"
   ]
  },
  {
   "cell_type": "markdown",
   "metadata": {},
   "source": [
    "### 1.3. Terminology"
   ]
  },
  {
   "cell_type": "markdown",
   "metadata": {},
   "source": [
    "<dl>\n",
    "<ul>\n",
    "    <dt><li>Root</li>\n",
    "    <dd> Node teratas/pucuk pada sebuah Tree (tertua)\n",
    "    </dd><br>\n",
    "    <dt><li>Parent</li>\n",
    "    <dd>Node yang mempunyai child</dd><br>\n",
    "    <dt><li>Child</li>\n",
    "    <dd>Turunan dari sebuah parent node</dd><br>\n",
    "    <dt><li>Siblings</li>\n",
    "    <dd>Merupakan node yang mempunyai parent yang sama</dd><br>\n",
    "    <dt><li>Ancestor</li>\n",
    "    <dd>Garis leluhur dari sebuah node</dd><br>\n",
    "    <dt><li>Descendant</li>\n",
    "    <dd>Seluruh node yang merupakan keturunan dari sebuah node</dd>\n",
    "</ul>\n",
    "</dl>"
   ]
  },
  {
   "cell_type": "markdown",
   "metadata": {},
   "source": [
    "### 1.4. Application"
   ]
  },
  {
   "cell_type": "markdown",
   "metadata": {},
   "source": [
    "<dl>\n",
    "<ol>\n",
    "    <li><dt>Calculation Hierarchy</dt></li>\n",
    "    <li><dt>File Organization</dt></li>\n",
    "    <li><dt>Decision Tree in Machine Learning (CART, Classification and Regression Tree)</dt></li>\n",
    "</ol>\n",
    "</dl>"
   ]
  },
  {
   "cell_type": "markdown",
   "metadata": {},
   "source": [
    "### 1.5. Traverse"
   ]
  },
  {
   "cell_type": "markdown",
   "metadata": {},
   "source": [
    "<div style=\"text-align: justify\">\n",
    "Traversing adalah suatu cara untuk mengunjungi tiap node pada tree sehingga seluruh node pada tree dapat dikunjungi.\n",
    "Traverse juga bisa digunakan untuk mencari nilai dari suatu node. Pada Tree terdapat beberapa cara traverse. Yaitu <b>PreOrder</b>, <b>InOrder</b>, dan <b>PostOrder</b> traverse. Ketiga traverse ini juga diklasifikasikan sebagai <b>Depth First Search</b> dikarenakan pada ketiga traversing ini mengutamakan mengunjungi node sampai ujung turunan pertama terlebih dahulu kemudian mengunjungi keturunan yang lain. <br>\n",
    "    \n",
    "Adapun <b>Breadth First Search</b> adalah algoritma yang juga bisa dipakai pada Tree Data Structure yang lebih utama mencari pada node per generasi terlebih dahulu baru kemudian melanjutkan search ke generasi selanjutnya\n",
    "</div>"
   ]
  },
  {
   "cell_type": "markdown",
   "metadata": {},
   "source": [
    "#### 1.5.1. PreOrder Traversing"
   ]
  },
  {
   "cell_type": "markdown",
   "metadata": {},
   "source": [
    "#### 1.5.2. InOrder Traversing"
   ]
  },
  {
   "cell_type": "markdown",
   "metadata": {},
   "source": [
    "#### 1.5.3. PostOrder Traversing"
   ]
  },
  {
   "cell_type": "code",
   "execution_count": null,
   "metadata": {},
   "outputs": [],
   "source": []
  }
 ],
 "metadata": {
  "kernelspec": {
   "display_name": "Python 3",
   "language": "python",
   "name": "python3"
  },
  "language_info": {
   "codemirror_mode": {
    "name": "ipython",
    "version": 3
   },
   "file_extension": ".py",
   "mimetype": "text/x-python",
   "name": "python",
   "nbconvert_exporter": "python",
   "pygments_lexer": "ipython3",
   "version": "3.7.6"
  }
 },
 "nbformat": 4,
 "nbformat_minor": 4
}
