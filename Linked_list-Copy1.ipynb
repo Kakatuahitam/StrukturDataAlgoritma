{
 "cells": [
  {
   "cell_type": "markdown",
   "metadata": {},
   "source": [
    "# Linked List"
   ]
  },
  {
   "cell_type": "markdown",
   "metadata": {},
   "source": [
    "Kamis, 28 Mei 2020 | Pertemuan Ke-10"
   ]
  },
  {
   "cell_type": "markdown",
   "metadata": {},
   "source": [
    "Disampaikan oleh:<br>\n",
    "Yuda Kurnia Nurul Fikri<br>\n",
    "11180910000073<br>\n",
    "yudakurnia.nurulfikri18@mhs.uinjkt.ac.id\n",
    "\n",
    "<br>\n",
    "Kelas 2E Teknik Informatika<br>\n",
    "UIN Syarif Hidayatullah Jakarta<br>\n",
    "2020"
   ]
  },
  {
   "cell_type": "markdown",
   "metadata": {},
   "source": [
    "<hr>\n",
    "Source:\n",
    "<blockquote>\n",
    "    <a href=https://www.cs.cmu.edu/~adamchik/15-121/lectures/Linked%20Lists/linked%20lists.html>\n",
    "        cs.cmu.edu lecture\n",
    "    </a><br>\n",
    "    <a href=https://socs.binus.ac.id/2017/03/15/single-linked-list>\n",
    "        socs.binus.ac.id lecture\n",
    "    </a><br>\n",
    "    <a href=https://dzone.com/articles/doubly-linked-list-in-java>\n",
    "        Dzone articles\n",
    "    </a><br>\n",
    "    <a href=https://levelup.gitconnected.com/array-vs-linked-list-data-structure-c5c0ff405f16>Matthew Chan on Medium</a>\n",
    "</blockquote>\n",
    "<hr>"
   ]
  },
  {
   "cell_type": "markdown",
   "metadata": {},
   "source": [
    "## 1| Pengantar"
   ]
  },
  {
   "cell_type": "markdown",
   "metadata": {},
   "source": [
    "<div style=\"text-align: justify\">\n",
    "    <b>Array</b> adalah sebuah tipe data yang digunakan untuk menyimpan data yang berurutan dengan ciri-ciri sebagai berikut:\n",
    "\n",
    "<dl>\n",
    "<ol>\n",
    "    <dt><li> Contiguous</li>\n",
    "    <dd> Artinya, sebuah array menempati suatu memory block di mana setiap elemen pada array bersampingan dengan elemen yang lain pada array yang sama \n",
    "    <img src=\"https://miro.medium.com/max/1400/1*5QTOE8VTXUwevY7gEuXsQA.png\">\n",
    "    </dd><br>\n",
    "    <dt><li> Random Access</li>\n",
    "    <dd> Karena memiliki ciri contiguous, maka setiap elemen bisa diakses secara langsung dengan menentukan indexnya. </dd><br>\n",
    "    <dt><li> Static</li>\n",
    "    <dd> Memory block yang ditempati sebuah array bersifat statis atau menetap. Maksudnya adalah sekali array dibuat, maka elemen pertama sampai elemen terakhir sebuah array beserta valuenya akan menetap di tempat yang sama. Sehingga sebuah array tidak bisa menambah atau mengurangi jumlah elemennya. Jika ingin menambah atau mengurangi elemen pada array tersebut, sebenarnya kita membuat array baru secara keseluruhan yang telah ditambah atau dikurangi elemennya </dd><br>\n",
    "    <dt><li> Smaller Memory Allocation</li>\n",
    "    <dd> Karena setiap elemen pada array hanya perlu menyimpan value saja, maka array menggunakan memory yang lebih sedikit dibandingkan dengan linked list</dd>\n",
    "</ol>\n",
    "</dl>\n",
    "\n",
    "</div>"
   ]
  },
  {
   "cell_type": "markdown",
   "metadata": {},
   "source": [
    "<div style=\"text-align: justify\">\n",
    "    Sedangkan <b>Linked List</b> adalah salah satu struktur data yang merupakan kumpulan-kumpulan elemen yang terpisah posisinya pada memory namun saling terhubung karena mempunyai pointer atau penunjuk di mana elemen di sampingnya berada. Elemen pada linked list disebut dengan <b>Node</b><br><br>\n",
    "    <img src=\"https://miro.medium.com/max/1400/1*Cn2drZ10cs36E-yXN1hZmw.png\">\n",
    "    Linked list mempunyai beberapa Node yang wajib dipunya, yaitu head dan tail node. Serta pada setiap node wajib mempunyai value dan 1 atau lebih pointer. Fungsi head dan tail node adalah sebagai identitas bahwa di mana letak ujung dari sebuah linked list. Sedangkan pointer berfungsi untuk menunjukkan di mana node selanjutnya berada. Pointer pada linked list biasanya menunjuk pada node selanjutnya <b>(next)</b> dan node sebelumnya <b>(prev)</b>.<br><br>\n",
    "    Ciri-ciri dari struktur data Linked List adalah sebagai berikut:\n",
    "\n",
    "<dl>\n",
    "<ol>\n",
    "    <dt><li>Non-Contiguous</li>\n",
    "    <dd>Setiap node tidak harus bersampingan posisinya pada penempatan memory. Sehingga node dapat ditempatkan pada memory block yang free di mana saja</dd><br>\n",
    "    <dt><li>Sequential access</li>\n",
    "    <dd>Linked list tidak bisa diakses secara random dikarenakan tidak mempunyai index. Sehingga dalam mencari sebuah node pada linked list harus bertahap dimulai dari awal/akhir node atau node-node yang telah ditandai khusus</dd><br>\n",
    "    <dt><li>Dynamic</li>\n",
    "    <dd>Linked list pada memory dapat dimodifikasi node-nodenya tanpa harus membuat ulang list yang baru secara keseluruhan. Sehingga saat ada penambahan node, maka node baru hanya perlu dibuat dan memodifikasi pointer yang menunjuk ke node tersebut dan node setelahnya</dd><br>\n",
    "    <dt><li> Larger Memory Allocation</li>\n",
    "    <dd>Tidak seperti array, karena node pada linked list wajib menyimpan value beserta pointer maka dapat disimpulkan bahwa linked list menggunakan memory yang lebih banyak dibandingkan array</dd>\n",
    "</ol>\n",
    "</dl>\n",
    "\n",
    "</div>"
   ]
  },
  {
   "cell_type": "code",
   "execution_count": null,
   "metadata": {},
   "outputs": [],
   "source": []
  }
 ],
 "metadata": {
  "kernelspec": {
   "display_name": "Python 3",
   "language": "python",
   "name": "python3"
  },
  "language_info": {
   "codemirror_mode": {
    "name": "ipython",
    "version": 3
   },
   "file_extension": ".py",
   "mimetype": "text/x-python",
   "name": "python",
   "nbconvert_exporter": "python",
   "pygments_lexer": "ipython3",
   "version": "3.7.6"
  }
 },
 "nbformat": 4,
 "nbformat_minor": 4
}
